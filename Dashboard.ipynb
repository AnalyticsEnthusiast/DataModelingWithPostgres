{
 "cells": [
  {
   "cell_type": "code",
   "execution_count": 8,
   "metadata": {
    "editable": true
   },
   "outputs": [],
   "source": [
    "import os\n",
    "import json\n",
    "import glob\n",
    "import psycopg2\n",
    "import pandas as pd\n",
    "from sql_queries import *\n",
    "import matplotlib"
   ]
  },
  {
   "cell_type": "code",
   "execution_count": 9,
   "metadata": {
    "editable": true
   },
   "outputs": [],
   "source": [
    "conn = psycopg2.connect(\"host=127.0.0.1 dbname=sparkifydb user=student password=student\")\n",
    "cur = conn.cursor()"
   ]
  },
  {
   "cell_type": "code",
   "execution_count": 10,
   "metadata": {
    "editable": true
   },
   "outputs": [],
   "source": [
    "top_10_users_query = \"\"\"\n",
    "SELECT\n",
    "    sp.user_id,\n",
    "    u.first_name,\n",
    "    u.last_name,\n",
    "    u.level,\n",
    "    u.gender,\n",
    "    COUNT(DISTINCT sp.session_id) as session_count\n",
    "FROM song_play_fact sp\n",
    "INNER JOIN user_dim u\n",
    "ON u.user_id = sp.user_id\n",
    "GROUP BY \n",
    "    sp.user_id,\n",
    "    u.first_name,\n",
    "    u.last_name,\n",
    "    u.level,\n",
    "    u.gender\n",
    "ORDER BY session_count DESC\n",
    "LIMIT 10\n",
    "\"\"\""
   ]
  },
  {
   "cell_type": "code",
   "execution_count": 11,
   "metadata": {
    "editable": true
   },
   "outputs": [
    {
     "name": "stdout",
     "output_type": "stream",
     "text": [
      "(26, 'Ryan', 'Smith', 'free', 'M', 55)\n",
      "(49, 'Chloe', 'Cuevas', 'paid', 'F', 42)\n",
      "(80, 'Tegan', 'Levine', 'paid', 'F', 33)\n",
      "(32, 'Lily', 'Burns', 'free', 'F', 30)\n",
      "(88, 'Mohammad', 'Rodriguez', 'free', 'M', 24)\n",
      "(50, 'Ava', 'Robinson', 'free', 'F', 23)\n",
      "(101, 'Jayden', 'Fox', 'free', 'M', 22)\n",
      "(86, 'Aiden', 'Hess', 'free', 'M', 17)\n",
      "(66, 'Kevin', 'Arellano', 'free', 'M', 17)\n",
      "(69, 'Anabelle', 'Simpson', 'free', 'F', 16)\n"
     ]
    }
   ],
   "source": [
    "cur.execute(top_10_users_query)\n",
    "# results = cur.fetchall()\n",
    "results = cur.fetchall()\n",
    "\n",
    "for row in results:\n",
    "    print(row)"
   ]
  },
  {
   "cell_type": "code",
   "execution_count": 12,
   "metadata": {
    "editable": true
   },
   "outputs": [
    {
     "data": {
      "text/html": [
       "<div>\n",
       "<style scoped>\n",
       "    .dataframe tbody tr th:only-of-type {\n",
       "        vertical-align: middle;\n",
       "    }\n",
       "\n",
       "    .dataframe tbody tr th {\n",
       "        vertical-align: top;\n",
       "    }\n",
       "\n",
       "    .dataframe thead th {\n",
       "        text-align: right;\n",
       "    }\n",
       "</style>\n",
       "<table border=\"1\" class=\"dataframe\">\n",
       "  <thead>\n",
       "    <tr style=\"text-align: right;\">\n",
       "      <th></th>\n",
       "      <th>UserID</th>\n",
       "      <th>FirstName</th>\n",
       "      <th>LastName</th>\n",
       "      <th>Level</th>\n",
       "      <th>Gender</th>\n",
       "      <th>SessionCount</th>\n",
       "      <th>FullName</th>\n",
       "      <th>Color</th>\n",
       "    </tr>\n",
       "  </thead>\n",
       "  <tbody>\n",
       "    <tr>\n",
       "      <th>0</th>\n",
       "      <td>26</td>\n",
       "      <td>Ryan</td>\n",
       "      <td>Smith</td>\n",
       "      <td>free</td>\n",
       "      <td>M</td>\n",
       "      <td>55</td>\n",
       "      <td>Ryan Smith</td>\n",
       "      <td>b</td>\n",
       "    </tr>\n",
       "    <tr>\n",
       "      <th>1</th>\n",
       "      <td>49</td>\n",
       "      <td>Chloe</td>\n",
       "      <td>Cuevas</td>\n",
       "      <td>paid</td>\n",
       "      <td>F</td>\n",
       "      <td>42</td>\n",
       "      <td>Chloe Cuevas</td>\n",
       "      <td>m</td>\n",
       "    </tr>\n",
       "    <tr>\n",
       "      <th>2</th>\n",
       "      <td>80</td>\n",
       "      <td>Tegan</td>\n",
       "      <td>Levine</td>\n",
       "      <td>paid</td>\n",
       "      <td>F</td>\n",
       "      <td>33</td>\n",
       "      <td>Tegan Levine</td>\n",
       "      <td>m</td>\n",
       "    </tr>\n",
       "    <tr>\n",
       "      <th>3</th>\n",
       "      <td>32</td>\n",
       "      <td>Lily</td>\n",
       "      <td>Burns</td>\n",
       "      <td>free</td>\n",
       "      <td>F</td>\n",
       "      <td>30</td>\n",
       "      <td>Lily Burns</td>\n",
       "      <td>m</td>\n",
       "    </tr>\n",
       "    <tr>\n",
       "      <th>4</th>\n",
       "      <td>88</td>\n",
       "      <td>Mohammad</td>\n",
       "      <td>Rodriguez</td>\n",
       "      <td>free</td>\n",
       "      <td>M</td>\n",
       "      <td>24</td>\n",
       "      <td>Mohammad Rodriguez</td>\n",
       "      <td>b</td>\n",
       "    </tr>\n",
       "  </tbody>\n",
       "</table>\n",
       "</div>"
      ],
      "text/plain": [
       "   UserID FirstName   LastName Level Gender  SessionCount            FullName  \\\n",
       "0      26      Ryan      Smith  free      M            55          Ryan Smith   \n",
       "1      49     Chloe     Cuevas  paid      F            42        Chloe Cuevas   \n",
       "2      80     Tegan     Levine  paid      F            33        Tegan Levine   \n",
       "3      32      Lily      Burns  free      F            30          Lily Burns   \n",
       "4      88  Mohammad  Rodriguez  free      M            24  Mohammad Rodriguez   \n",
       "\n",
       "  Color  \n",
       "0     b  \n",
       "1     m  \n",
       "2     m  \n",
       "3     m  \n",
       "4     b  "
      ]
     },
     "execution_count": 12,
     "metadata": {},
     "output_type": "execute_result"
    }
   ],
   "source": [
    "df_headings = (\"UserID\",\"FirstName\",\"LastName\",\"Level\",\"Gender\",\"SessionCount\")\n",
    "df = pd.DataFrame(results, columns=df_headings)\n",
    "df[\"FullName\"] = df[\"FirstName\"] + \" \" + df[\"LastName\"]\n",
    "df[\"Color\"] = df[\"Gender\"].apply(lambda x: 'b' if x == \"M\" else \"m\")\n",
    "df.head()"
   ]
  },
  {
   "cell_type": "code",
   "execution_count": 15,
   "metadata": {
    "editable": true
   },
   "outputs": [],
   "source": [
    "import matplotlib.pyplot as plt\n",
    "import numpy as np\n",
    "\n",
    "\n",
    "plt.rcdefaults()\n",
    "fig, ax = plt.subplots()\n",
    "\n",
    "# Example data\n",
    "people = df[\"FullName\"]\n",
    "y_pos = np.arange(len(people))\n",
    "sessions = df[\"SessionCount\"]\n",
    "#error = np.random.rand(len(people))\n",
    "\n",
    "ax.barh(y_pos, sessions, align='center', color=df[\"Color\"])\n",
    "ax.set_yticks(y_pos)\n",
    "ax.set_yticklabels(people)\n",
    "ax.invert_yaxis()  # labels read top-to-bottom\n",
    "ax.set_xlabel('Number of Sessions')\n",
    "ax.set_title('Top 10 Most Active Users')\n",
    "\n",
    "for x,y in zip(sessions, y_pos):\n",
    "\n",
    "    name = df.loc[df[\"SessionCount\"]== x,\"FullName\"].values[0]\n",
    "    label = df.loc[df['FullName'] == name, 'Gender'].values[0]\n",
    "\n",
    "    plt.annotate(label, # this is the text\n",
    "                 (x,y), # these are the coordinates to position the label\n",
    "                 textcoords=\"offset points\", # how to position the text\n",
    "                 xytext=(5,0), # distance from text to points (x,y)\n",
    "                 ha='left') # horizontal alignment can be left, right or center)\n",
    "\n",
    "\n",
    "#plt.show()\n",
    "plt.tight_layout()\n",
    "plt.savefig('images/top_10_users.png')"
   ]
  },
  {
   "cell_type": "code",
   "execution_count": null,
   "metadata": {
    "editable": true
   },
   "outputs": [],
   "source": []
  }
 ],
 "metadata": {
  "kernelspec": {
   "display_name": "Python 3",
   "language": "python",
   "name": "python3"
  },
  "language_info": {
   "codemirror_mode": {
    "name": "ipython",
    "version": 3
   },
   "file_extension": ".py",
   "mimetype": "text/x-python",
   "name": "python",
   "nbconvert_exporter": "python",
   "pygments_lexer": "ipython3",
   "version": "3.6.3"
  }
 },
 "nbformat": 4,
 "nbformat_minor": 4
}
